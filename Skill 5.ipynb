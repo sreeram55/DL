{
 "cells": [
  {
   "cell_type": "code",
   "execution_count": 7,
   "id": "b288dcff",
   "metadata": {},
   "outputs": [],
   "source": [
    "import numpy as np\n",
    "\n",
    "# sigmoid activation function\n",
    "def sigmoid(x):\n",
    "    return 1 / (1 + np.exp(-x))\n",
    "\n"
   ]
  },
  {
   "cell_type": "code",
   "execution_count": 8,
   "id": "dbb4768b",
   "metadata": {},
   "outputs": [],
   "source": [
    "# sigmoid derivative function\n",
    "def sigmoid_derivative(x):\n",
    "    return x * (1 - x)"
   ]
  },
  {
   "cell_type": "code",
   "execution_count": 9,
   "id": "b9136a25",
   "metadata": {},
   "outputs": [],
   "source": [
    "# create DNN model\n",
    "def create_model(input_dim, hidden_dim, output_dim):\n",
    "    model = {}\n",
    "    model['W1'] = np.random.randn(input_dim, hidden_dim)\n",
    "    model['b1'] = np.zeros((1, hidden_dim))\n",
    "    model['W2'] = np.random.randn(hidden_dim, output_dim)\n",
    "    model['b2'] = np.zeros((1, output_dim))\n",
    "    return model"
   ]
  },
  {
   "cell_type": "code",
   "execution_count": 10,
   "id": "2af7375a",
   "metadata": {},
   "outputs": [],
   "source": [
    "# forward propagation\n",
    "def forward_propagation(model, X):\n",
    "    Z1 = np.dot(X, model['W1']) + model['b1']\n",
    "    A1 = sigmoid(Z1)\n",
    "    Z2 = np.dot(A1, model['W2']) + model['b2']\n",
    "    A2 = sigmoid(Z2)\n",
    "    return A2, A1"
   ]
  },
  {
   "cell_type": "code",
   "execution_count": 11,
   "id": "fb60ca5c",
   "metadata": {},
   "outputs": [],
   "source": [
    "def backward_propagation(model, X, y, learning_rate, A1, A2):\n",
    "    m = X.shape[0]\n",
    "    dZ2 = A2 - y\n",
    "    dW2 = (1/m) * np.dot(A1.T, dZ2)\n",
    "    db2 = (1/m) * np.sum(dZ2, axis=0, keepdims=True)\n",
    "    dZ1 = np.dot(dZ2, model['W2'].T) * sigmoid_derivative(A1)\n",
    "    dW1 = (1/m) * np.dot(X.T, dZ1)\n",
    "    db1 = (1/m) * np.sum(dZ1, axis=0)\n",
    "    model['W1'] = model['W1'] - learning_rate * dW1\n",
    "    model['b1'] = model['b1'] - learning_rate * db1\n",
    "    model['W2'] = model['W2'] - learning_rate * dW2\n",
    "    model['b2'] = model['b2'] - learning_rate * db2\n",
    "    return model"
   ]
  },
  {
   "cell_type": "code",
   "execution_count": 12,
   "id": "40047b4c",
   "metadata": {},
   "outputs": [],
   "source": [
    "# Adam optimizer\n",
    "def Adam(model, X, y, learning_rate, beta1, beta2, epsilon, num_iterations):\n",
    "    m = X.shape[0]\n",
    "    v_dW1, v_db1, v_dW2, v_db2 = 0, 0, 0, 0\n",
    "    s_dW1, s_db1, s_dW2, s_db2 = 0, 0, 0, 0\n",
    "    for i in range(num_iterations):\n",
    "        A2, A1 = forward_propagation(model, X)\n",
    "        dW1, db1, dW2, db2 = backward_propagation(model, X, y, learning_rate, A1, A2)"
   ]
  },
  {
   "cell_type": "code",
   "execution_count": null,
   "id": "31e5376c",
   "metadata": {},
   "outputs": [],
   "source": []
  }
 ],
 "metadata": {
  "kernelspec": {
   "display_name": "Python 3",
   "language": "python",
   "name": "python3"
  },
  "language_info": {
   "codemirror_mode": {
    "name": "ipython",
    "version": 3
   },
   "file_extension": ".py",
   "mimetype": "text/x-python",
   "name": "python",
   "nbconvert_exporter": "python",
   "pygments_lexer": "ipython3",
   "version": "3.8.8"
  }
 },
 "nbformat": 4,
 "nbformat_minor": 5
}
