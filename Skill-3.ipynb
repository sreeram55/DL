{
 "cells": [
  {
   "cell_type": "code",
   "execution_count": 1,
   "id": "61154b99",
   "metadata": {},
   "outputs": [],
   "source": [
    "import numpy as np\n",
    "def sigmoid(x):\n",
    "    return 1/(1+np.exp(-x))\n",
    "def mean_squared_error(y_pred, y_true):\n",
    "    return ((y_pred - y_true)**2).sum() / (2*y_pred.size)\n",
    "def accuracy(y_pred, y_true, y_size):\n",
    "    if y_size>1:\n",
    "        acc=y_pred.argmax(axis=1) == y_true.argmax(axis=1)\n",
    "    else:\n",
    "        acc_preeed == y_true\n",
    "    return acc.mean()\n",
    "def tanh(x):\n",
    "    return ((np.exp(x)-np.exp(-x))/(np.exp(x)+np.exp(-x)))\n",
    "def cross_entropy_loss(y_predict, y):\n",
    "    loss=-np.sum(y*np.log(y_predict))\n",
    "    return loss/float(y_predict.shape[0])"
   ]
  },
  {
   "cell_type": "code",
   "execution_count": 2,
   "id": "eb525a01",
   "metadata": {},
   "outputs": [],
   "source": [
    "class MLP_1:\n",
    "    def __init__(self, input_size, hidden_size, output_size, learning_rate=0.1):\n",
    "        self.input_size=input_size\n",
    "        self.hidden_size=hidden_size\n",
    "        self.output_size=output_size\n",
    "        self.lr=learning_rate\n",
    "        self.w1=np.random.normal(scale=0.5, size=(input_size, hidden_size))\n",
    "        self.w2=np.random.normal(scale=0.5, size=( hidden_size, output_size))\n",
    "    def predict(self, x):\n",
    "        Z1=np.dot(x,self.w1)#preactivation\n",
    "        A1=tanh(Z1)#activation\n",
    "        #output\n",
    "        Z2=np.dot(x,self.w2)\n",
    "        A2=tanh(Z2)\n",
    "        print(A2.shape)\n",
    "        return A2\n",
    "    def train(self,X_train,y_train,epochs):\n",
    "        results=pd.DataFrame(columns=[\"cel\",\"accuracy\"])\n",
    "        for itr in range(epochs):\n",
    "            Z1=np.dot(X_train,self.w1)\n",
    "            A1=tanh(Z1)\n",
    "            print(A1.shape, self.w2.shape)\n",
    "            Z2=np.dot(A1, self.w2)\n",
    "            A2=tanh(Z2)\n",
    "            N=len(X_train)\n",
    "            \n",
    "            cel=cross_entropy_loss(A2,y_train)\n",
    "            acc=accuracy(A2,y_train,self.output_size)\n",
    "            results=results.append({\"cel\":cel,\"accuracy\":acc},ignore_index=True)\n",
    "            \n",
    "            E1=A2-y_train\n",
    "            dw1=E1*A2*(1-A2)\n",
    "            E2=np.dot(dw1,self.w2.T)\n",
    "            dw2=E2*A1*(1-A1)\n",
    "            \n",
    "            w2_update=np.dot(A1.T, dw1)/N\n",
    "            w1_update=np.dot(X_train.T, dw2)/N\n",
    "            \n",
    "            self.w2=self.w2-self.lr*w2_update\n",
    "            self.w1=self.w1-self.lr*w1_update\n",
    "        return results"
   ]
  },
  {
   "cell_type": "code",
   "execution_count": 2,
   "id": "0d67365f",
   "metadata": {},
   "outputs": [
    {
     "name": "stdout",
     "output_type": "stream",
     "text": [
      "2\n"
     ]
    },
    {
     "ename": "NameError",
     "evalue": "name 'MLP_1' is not defined",
     "output_type": "error",
     "traceback": [
      "\u001b[1;31m---------------------------------------------------------------------------\u001b[0m",
      "\u001b[1;31mNameError\u001b[0m                                 Traceback (most recent call last)",
      "\u001b[1;32m<ipython-input-2-2ad93e24854c>\u001b[0m in \u001b[0;36m<module>\u001b[1;34m\u001b[0m\n\u001b[0;32m     12\u001b[0m \u001b[0mX_train\u001b[0m\u001b[1;33m=\u001b[0m\u001b[0mX\u001b[0m\u001b[1;33m\u001b[0m\u001b[1;33m\u001b[0m\u001b[0m\n\u001b[0;32m     13\u001b[0m \u001b[1;33m\u001b[0m\u001b[0m\n\u001b[1;32m---> 14\u001b[1;33m \u001b[0mm1_iris\u001b[0m\u001b[1;33m=\u001b[0m\u001b[0mMLP_1\u001b[0m\u001b[1;33m(\u001b[0m\u001b[1;36m4\u001b[0m\u001b[1;33m,\u001b[0m\u001b[1;36m2\u001b[0m\u001b[1;33m,\u001b[0m\u001b[1;36m3\u001b[0m\u001b[1;33m,\u001b[0m\u001b[1;36m0.1\u001b[0m\u001b[1;33m)\u001b[0m\u001b[1;33m\u001b[0m\u001b[1;33m\u001b[0m\u001b[0m\n\u001b[0m\u001b[0;32m     15\u001b[0m \u001b[1;33m\u001b[0m\u001b[0m\n\u001b[0;32m     16\u001b[0m \u001b[0mmodel_results\u001b[0m\u001b[1;33m=\u001b[0m\u001b[0mm1_iris\u001b[0m\u001b[1;33m.\u001b[0m\u001b[0mtrain\u001b[0m\u001b[1;33m(\u001b[0m\u001b[0mX_train\u001b[0m\u001b[1;33m,\u001b[0m \u001b[0my_train\u001b[0m\u001b[1;33m,\u001b[0m \u001b[1;36m10\u001b[0m\u001b[1;33m)\u001b[0m\u001b[1;33m\u001b[0m\u001b[1;33m\u001b[0m\u001b[0m\n",
      "\u001b[1;31mNameError\u001b[0m: name 'MLP_1' is not defined"
     ]
    }
   ],
   "source": [
    "from sklearn.datasets import load_iris\n",
    "import pandas as pd\n",
    "import numpy as np\n",
    "\n",
    "data=load_iris()\n",
    "X=data.data\n",
    "y=data.target\n",
    "print(y[125])\n",
    "y=pd.get_dummies(y).values\n",
    "\n",
    "y_train=y\n",
    "X_train=X\n",
    "\n",
    "m1_iris=MLP_1(4,2,3,0.1)\n",
    "\n",
    "model_results=m1_iris.train(X_train, y_train, 10)"
   ]
  },
  {
   "cell_type": "code",
   "execution_count": null,
   "id": "84849516",
   "metadata": {},
   "outputs": [],
   "source": []
  }
 ],
 "metadata": {
  "kernelspec": {
   "display_name": "Python 3",
   "language": "python",
   "name": "python3"
  },
  "language_info": {
   "codemirror_mode": {
    "name": "ipython",
    "version": 3
   },
   "file_extension": ".py",
   "mimetype": "text/x-python",
   "name": "python",
   "nbconvert_exporter": "python",
   "pygments_lexer": "ipython3",
   "version": "3.8.8"
  }
 },
 "nbformat": 4,
 "nbformat_minor": 5
}
